{
 "cells": [
  {
   "cell_type": "markdown",
   "metadata": {},
   "source": [
    "Import Necessary Libraries & read data"
   ]
  },
  {
   "cell_type": "code",
   "execution_count": 11,
   "metadata": {},
   "outputs": [],
   "source": [
    "import pandas as pd\n",
    "import numpy as np\n",
    "import matplotlib.pyplot as plt"
   ]
  },
  {
   "cell_type": "code",
   "execution_count": 12,
   "metadata": {},
   "outputs": [],
   "source": [
    "df = pd.read_csv('data/sequences.csv')\n"
   ]
  },
  {
   "cell_type": "markdown",
   "metadata": {},
   "source": [
    "Basic data overview"
   ]
  },
  {
   "cell_type": "code",
   "execution_count": 23,
   "metadata": {},
   "outputs": [
    {
     "data": {
      "text/plain": [
       "(1096, 4)"
      ]
     },
     "execution_count": 23,
     "metadata": {},
     "output_type": "execute_result"
    }
   ],
   "source": [
    "# Display number of data\n",
    "df.shape"
   ]
  },
  {
   "cell_type": "code",
   "execution_count": 42,
   "metadata": {},
   "outputs": [
    {
     "data": {
      "text/plain": [
       "Family       int64\n",
       "Gene         int64\n",
       "Species      int64\n",
       "Sequence    object\n",
       "dtype: object"
      ]
     },
     "execution_count": 42,
     "metadata": {},
     "output_type": "execute_result"
    }
   ],
   "source": [
    "# Display data types\n",
    "df.dtypes"
   ]
  },
  {
   "cell_type": "code",
   "execution_count": 13,
   "metadata": {},
   "outputs": [
    {
     "data": {
      "text/html": [
       "<div>\n",
       "<style scoped>\n",
       "    .dataframe tbody tr th:only-of-type {\n",
       "        vertical-align: middle;\n",
       "    }\n",
       "\n",
       "    .dataframe tbody tr th {\n",
       "        vertical-align: top;\n",
       "    }\n",
       "\n",
       "    .dataframe thead th {\n",
       "        text-align: right;\n",
       "    }\n",
       "</style>\n",
       "<table border=\"1\" class=\"dataframe\">\n",
       "  <thead>\n",
       "    <tr style=\"text-align: right;\">\n",
       "      <th></th>\n",
       "      <th>Family</th>\n",
       "      <th>Gene</th>\n",
       "      <th>Species</th>\n",
       "      <th>Sequence</th>\n",
       "    </tr>\n",
       "  </thead>\n",
       "  <tbody>\n",
       "    <tr>\n",
       "      <th>0</th>\n",
       "      <td>6</td>\n",
       "      <td>58</td>\n",
       "      <td>16</td>\n",
       "      <td>VNQLEALYRASAAGAKILLVMVSYLCALEMFLKGKKVDVIVGDKYG...</td>\n",
       "    </tr>\n",
       "    <tr>\n",
       "      <th>1</th>\n",
       "      <td>6</td>\n",
       "      <td>59</td>\n",
       "      <td>17</td>\n",
       "      <td>VNQLEALYQRAAAGSKILLVIVTYLCALEMFLKGKKADVIVGSKYG...</td>\n",
       "    </tr>\n",
       "    <tr>\n",
       "      <th>2</th>\n",
       "      <td>6</td>\n",
       "      <td>60</td>\n",
       "      <td>16</td>\n",
       "      <td>LEQLDLEVLYRSSPTGAKLVLILISYLCRLETFLNGEHLESWCGGQ...</td>\n",
       "    </tr>\n",
       "    <tr>\n",
       "      <th>3</th>\n",
       "      <td>6</td>\n",
       "      <td>61</td>\n",
       "      <td>17</td>\n",
       "      <td>LEELELEKLYPSAPTGAKTILIVMCYPGRLNLLNVQPGCCQYILNE...</td>\n",
       "    </tr>\n",
       "    <tr>\n",
       "      <th>4</th>\n",
       "      <td>6</td>\n",
       "      <td>66</td>\n",
       "      <td>18</td>\n",
       "      <td>LEQLDLEVLCRASSTGSKQILAITAYLCRLDIFLNEQYLDAWVGWR...</td>\n",
       "    </tr>\n",
       "  </tbody>\n",
       "</table>\n",
       "</div>"
      ],
      "text/plain": [
       "   Family  Gene  Species                                           Sequence\n",
       "0       6    58       16  VNQLEALYRASAAGAKILLVMVSYLCALEMFLKGKKVDVIVGDKYG...\n",
       "1       6    59       17  VNQLEALYQRAAAGSKILLVIVTYLCALEMFLKGKKADVIVGSKYG...\n",
       "2       6    60       16  LEQLDLEVLYRSSPTGAKLVLILISYLCRLETFLNGEHLESWCGGQ...\n",
       "3       6    61       17  LEELELEKLYPSAPTGAKTILIVMCYPGRLNLLNVQPGCCQYILNE...\n",
       "4       6    66       18  LEQLDLEVLCRASSTGSKQILAITAYLCRLDIFLNEQYLDAWVGWR..."
      ]
     },
     "execution_count": 13,
     "metadata": {},
     "output_type": "execute_result"
    }
   ],
   "source": [
    "# Display the first few rows of the dataframe\n",
    "df.head()"
   ]
  },
  {
   "cell_type": "code",
   "execution_count": 14,
   "metadata": {},
   "outputs": [
    {
     "data": {
      "text/html": [
       "<div>\n",
       "<style scoped>\n",
       "    .dataframe tbody tr th:only-of-type {\n",
       "        vertical-align: middle;\n",
       "    }\n",
       "\n",
       "    .dataframe tbody tr th {\n",
       "        vertical-align: top;\n",
       "    }\n",
       "\n",
       "    .dataframe thead th {\n",
       "        text-align: right;\n",
       "    }\n",
       "</style>\n",
       "<table border=\"1\" class=\"dataframe\">\n",
       "  <thead>\n",
       "    <tr style=\"text-align: right;\">\n",
       "      <th></th>\n",
       "      <th>Family</th>\n",
       "      <th>Gene</th>\n",
       "      <th>Species</th>\n",
       "    </tr>\n",
       "  </thead>\n",
       "  <tbody>\n",
       "    <tr>\n",
       "      <th>count</th>\n",
       "      <td>1096.000000</td>\n",
       "      <td>1096.000000</td>\n",
       "      <td>1096.000000</td>\n",
       "    </tr>\n",
       "    <tr>\n",
       "      <th>mean</th>\n",
       "      <td>23.575730</td>\n",
       "      <td>41.838504</td>\n",
       "      <td>13.213504</td>\n",
       "    </tr>\n",
       "    <tr>\n",
       "      <th>std</th>\n",
       "      <td>14.143676</td>\n",
       "      <td>26.516169</td>\n",
       "      <td>5.219041</td>\n",
       "    </tr>\n",
       "    <tr>\n",
       "      <th>min</th>\n",
       "      <td>0.000000</td>\n",
       "      <td>3.000000</td>\n",
       "      <td>3.000000</td>\n",
       "    </tr>\n",
       "    <tr>\n",
       "      <th>25%</th>\n",
       "      <td>12.000000</td>\n",
       "      <td>23.000000</td>\n",
       "      <td>10.000000</td>\n",
       "    </tr>\n",
       "    <tr>\n",
       "      <th>50%</th>\n",
       "      <td>24.000000</td>\n",
       "      <td>36.000000</td>\n",
       "      <td>15.000000</td>\n",
       "    </tr>\n",
       "    <tr>\n",
       "      <th>75%</th>\n",
       "      <td>35.000000</td>\n",
       "      <td>55.000000</td>\n",
       "      <td>17.000000</td>\n",
       "    </tr>\n",
       "    <tr>\n",
       "      <th>max</th>\n",
       "      <td>49.000000</td>\n",
       "      <td>121.000000</td>\n",
       "      <td>19.000000</td>\n",
       "    </tr>\n",
       "  </tbody>\n",
       "</table>\n",
       "</div>"
      ],
      "text/plain": [
       "            Family         Gene      Species\n",
       "count  1096.000000  1096.000000  1096.000000\n",
       "mean     23.575730    41.838504    13.213504\n",
       "std      14.143676    26.516169     5.219041\n",
       "min       0.000000     3.000000     3.000000\n",
       "25%      12.000000    23.000000    10.000000\n",
       "50%      24.000000    36.000000    15.000000\n",
       "75%      35.000000    55.000000    17.000000\n",
       "max      49.000000   121.000000    19.000000"
      ]
     },
     "execution_count": 14,
     "metadata": {},
     "output_type": "execute_result"
    }
   ],
   "source": [
    "# Display basic statistics\n",
    "df.describe()"
   ]
  },
  {
   "cell_type": "code",
   "execution_count": 15,
   "metadata": {},
   "outputs": [
    {
     "data": {
      "text/plain": [
       "Family      0\n",
       "Gene        0\n",
       "Species     0\n",
       "Sequence    9\n",
       "dtype: int64"
      ]
     },
     "execution_count": 15,
     "metadata": {},
     "output_type": "execute_result"
    }
   ],
   "source": [
    "# Check for missing values\n",
    "df.isnull().sum()"
   ]
  },
  {
   "cell_type": "code",
   "execution_count": 18,
   "metadata": {},
   "outputs": [
    {
     "data": {
      "text/plain": [
       "0"
      ]
     },
     "execution_count": 18,
     "metadata": {},
     "output_type": "execute_result"
    }
   ],
   "source": [
    "# Check duplicates\n",
    "df.duplicated().sum()"
   ]
  },
  {
   "cell_type": "code",
   "execution_count": 20,
   "metadata": {},
   "outputs": [
    {
     "name": "stdout",
     "output_type": "stream",
     "text": [
      "Family        50\n",
      "Gene         118\n",
      "Species       10\n",
      "Sequence    1081\n",
      "dtype: int64\n"
     ]
    }
   ],
   "source": [
    "#check for the number of unique values in each column\n",
    "print(df.nunique())"
   ]
  },
  {
   "cell_type": "code",
   "execution_count": 30,
   "metadata": {},
   "outputs": [
    {
     "data": {
      "text/plain": [
       "Family\n",
       "0     18\n",
       "1     12\n",
       "2     27\n",
       "3     12\n",
       "4     45\n",
       "5     31\n",
       "6     33\n",
       "7     23\n",
       "8     13\n",
       "9     22\n",
       "10    11\n",
       "11    13\n",
       "12    51\n",
       "13    20\n",
       "14    27\n",
       "15    16\n",
       "16    24\n",
       "17    10\n",
       "18    29\n",
       "19    34\n",
       "20    11\n",
       "21    16\n",
       "22    29\n",
       "23    14\n",
       "24    13\n",
       "25    57\n",
       "26    30\n",
       "27    19\n",
       "28    15\n",
       "29    20\n",
       "30    13\n",
       "31    29\n",
       "32    17\n",
       "33    27\n",
       "34    23\n",
       "35    23\n",
       "36    15\n",
       "37    24\n",
       "38    26\n",
       "39    11\n",
       "40    16\n",
       "41    18\n",
       "42    12\n",
       "43    18\n",
       "44    41\n",
       "45    13\n",
       "46    28\n",
       "47    25\n",
       "48    12\n",
       "49    10\n",
       "Name: count, dtype: int64"
      ]
     },
     "execution_count": 30,
     "metadata": {},
     "output_type": "execute_result"
    }
   ],
   "source": [
    "# Check number of families\n",
    "df['Family'].value_counts().sort_index()"
   ]
  },
  {
   "cell_type": "code",
   "execution_count": 31,
   "metadata": {},
   "outputs": [
    {
     "data": {
      "text/plain": [
       "Gene\n",
       "3      24\n",
       "4       3\n",
       "5      20\n",
       "7       9\n",
       "8       1\n",
       "       ..\n",
       "117     2\n",
       "118     1\n",
       "119     1\n",
       "120     1\n",
       "121     1\n",
       "Name: count, Length: 118, dtype: int64"
      ]
     },
     "execution_count": 31,
     "metadata": {},
     "output_type": "execute_result"
    }
   ],
   "source": [
    "# Check number of genes\n",
    "df['Gene'].value_counts().sort_index()"
   ]
  },
  {
   "cell_type": "code",
   "execution_count": 32,
   "metadata": {},
   "outputs": [
    {
     "data": {
      "text/plain": [
       "Species\n",
       "3      93\n",
       "4      98\n",
       "10     95\n",
       "11    112\n",
       "14    102\n",
       "15     95\n",
       "16    125\n",
       "17    120\n",
       "18    128\n",
       "19    128\n",
       "Name: count, dtype: int64"
      ]
     },
     "execution_count": 32,
     "metadata": {},
     "output_type": "execute_result"
    }
   ],
   "source": [
    "# Check number of species\n",
    "df['Species'].value_counts().sort_index()"
   ]
  },
  {
   "cell_type": "code",
   "execution_count": 48,
   "metadata": {},
   "outputs": [
    {
     "name": "stdout",
     "output_type": "stream",
     "text": [
      "Mean:  221.3029197080292\n",
      "0       207\n",
      "1       207\n",
      "2       205\n",
      "3       192\n",
      "4       199\n",
      "       ... \n",
      "1091    250\n",
      "1092    203\n",
      "1093    203\n",
      "1094    200\n",
      "1095    158\n",
      "Name: Sequence, Length: 1096, dtype: int64\n"
     ]
    }
   ],
   "source": [
    "# Check length of sequences\n",
    "l = df['Sequence'].apply(lambda x: len(str(x)))\n",
    "print(\"Mean: \", np.mean(l))\n",
    "print(l)\n"
   ]
  }
 ],
 "metadata": {
  "kernelspec": {
   "display_name": "Python 3 (ipykernel)",
   "language": "python",
   "name": "python3"
  },
  "language_info": {
   "codemirror_mode": {
    "name": "ipython",
    "version": 3
   },
   "file_extension": ".py",
   "mimetype": "text/x-python",
   "name": "python",
   "nbconvert_exporter": "python",
   "pygments_lexer": "ipython3",
   "version": "3.8.18"
  }
 },
 "nbformat": 4,
 "nbformat_minor": 2
}
