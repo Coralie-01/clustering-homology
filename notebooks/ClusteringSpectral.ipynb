{
 "cells": [
  {
   "cell_type": "markdown",
   "metadata": {},
   "source": [
    "# Clustering Spectral"
   ]
  },
  {
   "cell_type": "code",
   "execution_count": 1,
   "metadata": {},
   "outputs": [],
   "source": [
    "\"\"\"imports\"\"\"\n",
    "import numpy as np\n",
    "import matplotlib.pyplot as plt\n",
    "import seaborn as sns\n",
    "import pandas as pd\n"
   ]
  },
  {
   "cell_type": "code",
   "execution_count": 2,
   "metadata": {},
   "outputs": [],
   "source": [
    "# Load data\n",
    "data = pd.read_csv(\"../data/processed/sequences.csv\")\n",
    "similarity_matrix = np.load(\"../data/processed/similarity_matrix.npy\")\n",
    "stochastic_matrix = np.load(\"../data/processed/stochastic_matrix.npy\")\n",
    "labels = data[\"Family\"]\n",
    "sequences = data[\"Sequence\"]"
   ]
  },
  {
   "cell_type": "code",
   "execution_count": 3,
   "metadata": {},
   "outputs": [
    {
     "name": "stdout",
     "output_type": "stream",
     "text": [
      "Silhouette score: -0.054\n"
     ]
    }
   ],
   "source": [
    "## spectral clustering\n",
    "from sklearn.cluster import SpectralClustering\n",
    "from sklearn.metrics import silhouette_score\n",
    "\n",
    "# Create a spectral clustering model\n",
    "model = SpectralClustering(n_clusters=50, affinity='precomputed')\n",
    "\n",
    "# Fit and predict\n",
    "labels = model.fit_predict(stochastic_matrix)\n",
    "\n",
    "# Get the silhouette score\n",
    "print('Silhouette score: {:.3f}'.format(silhouette_score(stochastic_matrix, labels, metric='cosine')))\n"
   ]
  }
 ],
 "metadata": {
  "kernelspec": {
   "display_name": "Python 3",
   "language": "python",
   "name": "python3"
  },
  "language_info": {
   "codemirror_mode": {
    "name": "ipython",
    "version": 3
   },
   "file_extension": ".py",
   "mimetype": "text/x-python",
   "name": "python",
   "nbconvert_exporter": "python",
   "pygments_lexer": "ipython3",
   "version": "3.8.18"
  }
 },
 "nbformat": 4,
 "nbformat_minor": 2
}
