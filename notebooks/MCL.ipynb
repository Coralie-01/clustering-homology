{
 "cells": [
  {
   "cell_type": "code",
   "execution_count": null,
   "metadata": {},
   "outputs": [],
   "source": [
    "from Bio import Align\n",
    "from Bio.Align import substitution_matrices\n",
    "import markov_clustering as mcl\n",
    "import matplotlib.pyplot as plt\n",
    "import numpy as np\n",
    "import pandas as pd"
   ]
  },
  {
   "cell_type": "code",
   "execution_count": null,
   "metadata": {},
   "outputs": [],
   "source": [
    "# Load data\n",
    "data = pd.read_csv(\"data/processed/sequences.csv\")\n",
    "similarity_matrix = np.load(\"data/processed/similarity_matrix.npy\")\n"
   ]
  },
  {
   "cell_type": "code",
   "execution_count": null,
   "metadata": {},
   "outputs": [],
   "source": [
    "mean = np.mean(similarity_matrix)\n",
    "std = np.std(similarity_matrix)\n",
    "threeshold = mean\n",
    "m = np.where(similarity_matrix > threeshold, similarity_matrix, 0)\n",
    "m = np.where(m < threeshold, m, 1)\n",
    "\n",
    "# Perform MCL\n",
    "result = mcl.run_mcl(m, inflation=2)\n",
    "clusters = mcl.get_clusters(result)\n",
    "print(clusters)\n",
    "\n",
    "\n"
   ]
  }
 ],
 "metadata": {
  "kernelspec": {
   "display_name": "env",
   "language": "python",
   "name": "python3"
  },
  "language_info": {
   "name": "python",
   "version": "3.11.2"
  }
 },
 "nbformat": 4,
 "nbformat_minor": 2
}
